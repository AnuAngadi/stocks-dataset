{
  "metadata": {
    "language_info": {
      "codemirror_mode": {
        "name": "python",
        "version": 3
      },
      "file_extension": ".py",
      "mimetype": "text/x-python",
      "name": "python",
      "nbconvert_exporter": "python",
      "pygments_lexer": "ipython3",
      "version": "3.8"
    },
    "kernelspec": {
      "name": "python",
      "display_name": "Python (Pyodide)",
      "language": "python"
    }
  },
  "nbformat_minor": 4,
  "nbformat": 4,
  "cells": [
    {
      "cell_type": "code",
      "source": "#importing libraries to be used\nimport numpy as np # for linear algebra\nimport pandas as pd # data preprocessing\nimport matplotlib.pyplot as plt # data visualization library\nimport seaborn as sns # data visualization library\nimport sys\nprint(sys.executable)\n%matplotlib inline\nimport warnings\nwarnings.filterwarnings('ignore') # ignore warnings \n\nfrom sklearn.preprocessing import MinMaxScaler # for normalization\nfrom keras.models import Sequential\nfrom keras.layers import Dense, Dropout, LSTM, Bidirectional\n\n\n",
      "metadata": {
        "trusted": true
      },
      "execution_count": null,
      "outputs": []
    },
    {
      "cell_type": "code",
      "source": "import pandas as pd\n\n# Replace 'your_file.csv' with the actual file name\ndf = pd.read_csv('Google Stocks.csv')\n\n# Now you can work with the DataFrame 'df'\n\ndf = pd.read_csv('Google Stocks.csv') # data_importing\ndf.head(10) # fetching first 10 rows of dataset\n",
      "metadata": {
        "trusted": true
      },
      "execution_count": null,
      "outputs": []
    },
    {
      "cell_type": "code",
      "source": "# shape of data\nprint(\"Shape of data:\",df.shape)",
      "metadata": {
        "trusted": true
      },
      "execution_count": null,
      "outputs": []
    },
    {
      "cell_type": "code",
      "source": "# statistical description of data\ndf.describe()",
      "metadata": {
        "trusted": true
      },
      "execution_count": null,
      "outputs": []
    },
    {
      "cell_type": "code",
      "source": "# summary of data\ndf.info()",
      "metadata": {
        "trusted": true
      },
      "execution_count": null,
      "outputs": []
    },
    {
      "cell_type": "code",
      "source": "# checking null values\ndf.isnull().sum()",
      "metadata": {
        "trusted": true
      },
      "execution_count": null,
      "outputs": []
    },
    {
      "cell_type": "code",
      "source": "df = df[['date','open','close']] # Extracting required columns\ndf['date'] = pd.to_datetime(df['date'].apply(lambda x: x.split()[0])) # converting object dtype of date column to datetime dtype\ndf.set_index('date',drop=True,inplace=True) # Setting date column as index\ndf.head(10)",
      "metadata": {
        "trusted": true
      },
      "execution_count": null,
      "outputs": []
    },
    {
      "cell_type": "code",
      "source": "# plotting open and closing price on date index\nfig, ax =plt.subplots(1,2,figsize=(20,7))\nax[0].plot(df['open'],label='Open',color='green')\nax[0].set_xlabel('Date',size=15)\nax[0].set_ylabel('Price',size=15)\nax[0].legend()\n\nax[1].plot(df['close'],label='Close',color='red')\nax[1].set_xlabel('Date',size=15)\nax[1].set_ylabel('Price',size=15)\nax[1].legend()\n\nfig.show()",
      "metadata": {
        "trusted": true
      },
      "execution_count": null,
      "outputs": []
    },
    {
      "cell_type": "code",
      "source": "# normalizing all the values of all columns using MinMaxScaler\nMMS = MinMaxScaler()\ndf[df.columns] = MMS.fit_transform(df)\ndf.head(10)",
      "metadata": {
        "trusted": true
      },
      "execution_count": null,
      "outputs": []
    },
    {
      "cell_type": "code",
      "source": "# splitting the data into training and test set\ntraining_size = round(len(df) * 0.75) # Selecting 75 % for training and 25 % for testing\ntraining_size",
      "metadata": {
        "trusted": true
      },
      "execution_count": null,
      "outputs": []
    },
    {
      "cell_type": "code",
      "source": "train_data = df[:training_size]\ntest_data  = df[training_size:]\n\ntrain_data.shape, test_data.shape",
      "metadata": {
        "trusted": true
      },
      "execution_count": null,
      "outputs": []
    },
    {
      "cell_type": "code",
      "source": "# Function to create sequence of data for training and testing\n\ndef create_sequence(dataset):\n  sequences = []\n  labels = []\n\n  start_idx = 0\n\n  for stop_idx in range(50,len(dataset)): # Selecting 50 rows at a time\n    sequences.append(dataset.iloc[start_idx:stop_idx])\n    labels.append(dataset.iloc[stop_idx])\n    start_idx += 1\n  return (np.array(sequences),np.array(labels))",
      "metadata": {
        "trusted": true
      },
      "execution_count": null,
      "outputs": []
    },
    {
      "cell_type": "code",
      "source": "train_seq, train_label = create_sequence(train_data) \ntest_seq, test_label = create_sequence(test_data)\ntrain_seq.shape, train_label.shape, test_seq.shape, test_label.shape",
      "metadata": {
        "trusted": true
      },
      "execution_count": null,
      "outputs": []
    },
    {
      "cell_type": "code",
      "source": "# imported Sequential from keras.models \nmodel = Sequential()\n# importing Dense, Dropout, LSTM, Bidirectional from keras.layers \nmodel.add(LSTM(units=50, return_sequences=True, input_shape = (train_seq.shape[1], train_seq.shape[2])))\n\nmodel.add(Dropout(0.1)) \nmodel.add(LSTM(units=50))\n\nmodel.add(Dense(2))\n\nmodel.compile(loss='mean_squared_error', optimizer='adam', metrics=['mean_absolute_error'])\n\nmodel.summary()",
      "metadata": {
        "trusted": true
      },
      "execution_count": null,
      "outputs": []
    },
    {
      "cell_type": "code",
      "source": "# fitting the model by iterating the dataset over 100 times(100 epochs)\nmodel.fit(train_seq, train_label, epochs=100,validation_data=(test_seq, test_label), verbose=1)",
      "metadata": {
        "trusted": true
      },
      "execution_count": null,
      "outputs": []
    },
    {
      "cell_type": "code",
      "source": "# predicting the values after running the model\ntest_predicted = model.predict(test_seq)\ntest_predicted[:5]",
      "metadata": {
        "trusted": true
      },
      "execution_count": null,
      "outputs": []
    },
    {
      "cell_type": "code",
      "source": "# Inversing normalization/scaling on predicted data \ntest_inverse_predicted = MMS.inverse_transform(test_predicted)\ntest_inverse_predicted[:5]",
      "metadata": {
        "trusted": true
      },
      "execution_count": null,
      "outputs": []
    },
    {
      "cell_type": "code",
      "source": "# Merging actual and predicted data for better visualization\ndf_merge = pd.concat([df.iloc[-264:].copy(),\n                          pd.DataFrame(test_inverse_predicted,columns=['open_predicted','close_predicted'],\n                                       index=df.iloc[-264:].index)], axis=1)",
      "metadata": {
        "trusted": true
      },
      "execution_count": null,
      "outputs": []
    },
    {
      "cell_type": "code",
      "source": "# Inversing normalization/scaling \ndf_merge[['open','close']] = MMS.inverse_transform(df_merge[['open','close']])\ndf_merge.head()",
      "metadata": {
        "trusted": true
      },
      "execution_count": null,
      "outputs": []
    },
    {
      "cell_type": "code",
      "source": "# plotting the actual open and predicted open prices on date index\ndf_merge[['open','open_predicted']].plot(figsize=(10,6))\nplt.xticks(rotation=45)\nplt.xlabel('Date',size=15)\nplt.ylabel('Stock Price',size=15)\nplt.title('Actual vs Predicted for open price',size=15)\nplt.show()",
      "metadata": {
        "trusted": true
      },
      "execution_count": null,
      "outputs": []
    },
    {
      "cell_type": "code",
      "source": "# plotting the actual close and predicted close prices on date index \ndf_merge[['close','close_predicted']].plot(figsize=(10,6))\nplt.xticks(rotation=45)\nplt.xlabel('Date',size=15)\nplt.ylabel('Stock Price',size=15)\nplt.title('Actual vs Predicted for close price',size=15)\nplt.show()",
      "metadata": {
        "trusted": true
      },
      "execution_count": null,
      "outputs": []
    },
    {
      "cell_type": "code",
      "source": "# Creating a dataframe and adding 10 days to existing index \n\ndf_merge = df_merge.append(pd.DataFrame(columns=df_merge.columns,\n                                        index=pd.date_range(start=df_merge.index[-1], periods=11, freq='D', closed='right')))\ndf_merge['2021-06-09':'2021-06-16']",
      "metadata": {
        "trusted": true
      },
      "execution_count": null,
      "outputs": []
    },
    {
      "cell_type": "code",
      "source": "# creating a DataFrame and filling values of open and close column\nupcoming_prediction = pd.DataFrame(columns=['open','close'],index=df_merge.index)\nupcoming_prediction.index=pd.to_datetime(upcoming_prediction.index)",
      "metadata": {
        "trusted": true
      },
      "execution_count": null,
      "outputs": []
    },
    {
      "cell_type": "code",
      "source": "curr_seq = test_seq[-1:]\n\nfor i in range(-10,0):\n  up_pred = model.predict(curr_seq)\n  upcoming_prediction.iloc[i] = up_pred\n  curr_seq = np.append(curr_seq[0][1:],up_pred,axis=0)\n  curr_seq = curr_seq.reshape(test_seq[-1:].shape)",
      "metadata": {
        "trusted": true
      },
      "execution_count": null,
      "outputs": []
    },
    {
      "cell_type": "code",
      "source": "# inversing Normalization/scaling\nupcoming_prediction[['open','close']] = MMS.inverse_transform(upcoming_prediction[['open','close']])",
      "metadata": {
        "trusted": true
      },
      "execution_count": null,
      "outputs": []
    },
    {
      "cell_type": "code",
      "source": "# plotting Upcoming Open price on date index\nfig,ax=plt.subplots(figsize=(10,5))\nax.plot(df_merge.loc['2021-04-01':,'open'],label='Current Open Price')\nax.plot(upcoming_prediction.loc['2021-04-01':,'open'],label='Upcoming Open Price')\nplt.setp(ax.xaxis.get_majorticklabels(), rotation=45)\nax.set_xlabel('Date',size=15)\nax.set_ylabel('Stock Price',size=15)\nax.set_title('Upcoming Open price prediction',size=15)\nax.legend()\nfig.show()",
      "metadata": {
        "trusted": true
      },
      "execution_count": null,
      "outputs": []
    },
    {
      "cell_type": "code",
      "source": "# plotting Upcoming Close price on date index\nfig,ax=plt.subplots(figsize=(10,5))\nax.plot(df_merge.loc['2021-04-01':,'close'],label='Current close Price')\nax.plot(upcoming_prediction.loc['2021-04-01':,'close'],label='Upcoming close Price')\nplt.setp(ax.xaxis.get_majorticklabels(), rotation=45)\nax.set_xlabel('Date',size=15)\nax.set_ylabel('Stock Price',size=15)\nax.set_title('Upcoming close price prediction',size=15)\nax.legend()\nfig.show()",
      "metadata": {
        "trusted": true
      },
      "execution_count": null,
      "outputs": []
    },
    {
      "cell_type": "code",
      "source": "",
      "metadata": {},
      "execution_count": null,
      "outputs": []
    }
  ]
}